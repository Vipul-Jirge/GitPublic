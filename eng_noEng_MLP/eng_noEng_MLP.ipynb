{
 "cells": [
  {
   "cell_type": "markdown",
   "metadata": {},
   "source": [
    "Import Modules"
   ]
  },
  {
   "cell_type": "code",
   "execution_count": 29,
   "metadata": {},
   "outputs": [],
   "source": [
    "import pickle\n",
    "import random\n",
    "import math\n",
    "import numpy as np\n",
    "from typing import List, Tuple\n",
    "#seed for consistence\n",
    "random.seed(0)"
   ]
  },
  {
   "cell_type": "markdown",
   "metadata": {},
   "source": [
    "Read pickle db"
   ]
  },
  {
   "cell_type": "code",
   "execution_count": 17,
   "metadata": {},
   "outputs": [],
   "source": [
    "eng:List[str] = []\n",
    "no_eng:List[str] = []\n",
    "with (open(r\"eng_no_eng_data.pickle\", \"rb\")) as f:\n",
    "        objects=pickle.load(f)\n",
    "        eng = objects['eng']\n",
    "        no_eng = objects['no_eng']"
   ]
  },
  {
   "cell_type": "code",
   "execution_count": 16,
   "metadata": {},
   "outputs": [],
   "source": [
    "#matching length of both lists\n",
    "no_eng = random.sample(no_eng, len(eng))"
   ]
  },
  {
   "cell_type": "code",
   "execution_count": 30,
   "metadata": {},
   "outputs": [
    {
     "name": "stdout",
     "output_type": "stream",
     "text": [
      "all_letters:  ['a', 'b', 'c', 'd', 'e', 'f', 'g', 'h', 'i', 'j', 'k', 'l', 'm', 'n', 'o', 'p', 'q', 'r', 's', 't', 'u', 'v', 'w', 'x', 'y', 'z', 'ñ']\n"
     ]
    }
   ],
   "source": [
    "# Convert all charecters a-z + ee whaterver to \n",
    "\n",
    "all_letters = sorted(list(set(\"\".join(no_eng + eng))))\n",
    "print('all_letters: ', all_letters)"
   ]
  },
  {
   "cell_type": "code",
   "execution_count": 38,
   "metadata": {},
   "outputs": [
    {
     "name": "stdout",
     "output_type": "stream",
     "text": [
      "[[1. 0. 0. 0. 0. 0. 0. 0. 0. 0. 0. 0. 0. 0. 0. 0. 0. 0. 0. 0. 0. 0. 0. 0.\n",
      "  0. 0. 0.]\n",
      " [0. 0. 0. 0. 0. 0. 0. 0. 0. 0. 0. 0. 1. 0. 0. 0. 0. 0. 0. 0. 0. 0. 0. 0.\n",
      "  0. 0. 0.]\n",
      " [0. 0. 0. 0. 1. 0. 0. 0. 0. 0. 0. 0. 0. 0. 0. 0. 0. 0. 0. 0. 0. 0. 0. 0.\n",
      "  0. 0. 0.]\n",
      " [0. 0. 0. 0. 0. 0. 0. 0. 0. 0. 0. 0. 0. 0. 0. 0. 0. 0. 0. 0. 0. 0. 0. 0.\n",
      "  1. 0. 0.]\n",
      " [1. 0. 0. 0. 0. 0. 0. 0. 0. 0. 0. 0. 0. 0. 0. 0. 0. 0. 0. 0. 0. 0. 0. 0.\n",
      "  0. 0. 0.]]\n"
     ]
    }
   ],
   "source": [
    "def word2vec(word:str) -> np.ndarray:\n",
    "    \"\"\"takes in a word of 5 characters and encodes it based on all letters array in 5x27 matrix\n",
    "    \"\"\"\n",
    "    all_letters=  ['a', 'b', 'c', 'd', 'e', 'f', 'g', 'h', 'i', 'j', 'k', 'l', 'm', 'n', 'o', 'p', 'q', 'r', 's', 't', 'u', 'v', 'w', 'x', 'y', 'z', 'ñ']\n",
    "    word_init:np.ndarray = np.zeros((5,27),dtype=np.float32)\n",
    "\n",
    "    for i,c in enumerate(word):\n",
    "        j = all_letters.index(c)\n",
    "        word_init[i][j]= 1.0\n",
    "    return word_init"
   ]
  },
  {
   "cell_type": "code",
   "execution_count": 13,
   "metadata": {},
   "outputs": [
    {
     "name": "stdout",
     "output_type": "stream",
     "text": [
      "10657 10657 10657 0\n"
     ]
    }
   ],
   "source": [
    "print(len(eng),len(no_eng),len(set(no_eng)),len(tset(no_eng).intersection(set(eng))))"
   ]
  },
  {
   "cell_type": "code",
   "execution_count": null,
   "metadata": {},
   "outputs": [],
   "source": [
    "no_eng = [(word2vec(i),0) for i in no_eng]\n",
    "eng = [(word2vec(i),1) for i in eng]\n",
    "random.shuffle(no_eng)\n",
    "random.shuffle(eng)\n",
    "\n",
    "# spliting training data, test data and validationg data as 70%,15% and 15% respectively\n",
    "train_split_index = math.floor(0.7 * len(eng))\n",
    "test_split_index = math.floor(0.85 * len(eng))\n",
    "\n",
    "train_set = eng[:train_split_index]+no_eng[:train_split_index]\n",
    "test_set = eng[train_split_index:test_split_index]+no_eng[train_split_index:test_split_index]\n",
    "validation_set =  eng[test_split_index:]+ no_eng[test_split_index:]\n",
    "\n",
    "print(len(train_set),len(test_set),len())"
   ]
  }
 ],
 "metadata": {
  "kernelspec": {
   "display_name": "Python 3.8.8 ('base')",
   "language": "python",
   "name": "python3"
  },
  "language_info": {
   "codemirror_mode": {
    "name": "ipython",
    "version": 3
   },
   "file_extension": ".py",
   "mimetype": "text/x-python",
   "name": "python",
   "nbconvert_exporter": "python",
   "pygments_lexer": "ipython3",
   "version": "3.8.8"
  },
  "orig_nbformat": 4,
  "vscode": {
   "interpreter": {
    "hash": "e42634819b8c191a5d07eaf23810ff32516dd8d3875f28ec3e488928fbd3c187"
   }
  }
 },
 "nbformat": 4,
 "nbformat_minor": 2
}
