{
 "cells": [
  {
   "cell_type": "code",
   "execution_count": 2,
   "metadata": {},
   "outputs": [],
   "source": [
    "import pandas as pd\n",
    "import numpy as np\n",
    "import os"
   ]
  },
  {
   "cell_type": "code",
   "execution_count": 28,
   "metadata": {},
   "outputs": [
    {
     "data": {
      "text/html": [
       "<div>\n",
       "<style scoped>\n",
       "    .dataframe tbody tr th:only-of-type {\n",
       "        vertical-align: middle;\n",
       "    }\n",
       "\n",
       "    .dataframe tbody tr th {\n",
       "        vertical-align: top;\n",
       "    }\n",
       "\n",
       "    .dataframe thead th {\n",
       "        text-align: right;\n",
       "    }\n",
       "</style>\n",
       "<table border=\"1\" class=\"dataframe\">\n",
       "  <thead>\n",
       "    <tr style=\"text-align: right;\">\n",
       "      <th></th>\n",
       "      <th>Date</th>\n",
       "      <th>State/UnionTerritory</th>\n",
       "      <th>Confirmed</th>\n",
       "    </tr>\n",
       "  </thead>\n",
       "  <tbody>\n",
       "    <tr>\n",
       "      <th>0</th>\n",
       "      <td>2020-01-30</td>\n",
       "      <td>Kerala</td>\n",
       "      <td>1</td>\n",
       "    </tr>\n",
       "    <tr>\n",
       "      <th>1</th>\n",
       "      <td>2020-01-31</td>\n",
       "      <td>Kerala</td>\n",
       "      <td>1</td>\n",
       "    </tr>\n",
       "    <tr>\n",
       "      <th>2</th>\n",
       "      <td>2020-02-01</td>\n",
       "      <td>Kerala</td>\n",
       "      <td>2</td>\n",
       "    </tr>\n",
       "    <tr>\n",
       "      <th>3</th>\n",
       "      <td>2020-02-02</td>\n",
       "      <td>Kerala</td>\n",
       "      <td>3</td>\n",
       "    </tr>\n",
       "    <tr>\n",
       "      <th>4</th>\n",
       "      <td>2020-02-03</td>\n",
       "      <td>Kerala</td>\n",
       "      <td>3</td>\n",
       "    </tr>\n",
       "  </tbody>\n",
       "</table>\n",
       "</div>"
      ],
      "text/plain": [
       "         Date State/UnionTerritory  Confirmed\n",
       "0  2020-01-30               Kerala          1\n",
       "1  2020-01-31               Kerala          1\n",
       "2  2020-02-01               Kerala          2\n",
       "3  2020-02-02               Kerala          3\n",
       "4  2020-02-03               Kerala          3"
      ]
     },
     "execution_count": 28,
     "metadata": {},
     "output_type": "execute_result"
    }
   ],
   "source": [
    "current_path = os.getcwd()\n",
    "covid_csv = pd.read_csv(os.path.join(current_path,'covid_data','covid_19_india.csv'))\n",
    "for i in ['Sno','Time','ConfirmedIndianNational','ConfirmedForeignNational','Cured','Deaths']:\n",
    "    covid_csv.pop(i)\n",
    "\n",
    "covid_csv.head()"
   ]
  },
  {
   "cell_type": "code",
   "execution_count": 61,
   "metadata": {},
   "outputs": [
    {
     "data": {
      "text/plain": [
       "['Kerala',\n",
       " 'Telengana',\n",
       " 'Delhi',\n",
       " 'Rajasthan',\n",
       " 'Uttar Pradesh',\n",
       " 'Haryana',\n",
       " 'Ladakh',\n",
       " 'Tamil Nadu',\n",
       " 'Karnataka',\n",
       " 'Maharashtra',\n",
       " 'Punjab',\n",
       " 'Jammu and Kashmir',\n",
       " 'Andhra Pradesh',\n",
       " 'Uttarakhand',\n",
       " 'Odisha',\n",
       " 'Puducherry',\n",
       " 'West Bengal',\n",
       " 'Chhattisgarh',\n",
       " 'Chandigarh',\n",
       " 'Gujarat',\n",
       " 'Himachal Pradesh',\n",
       " 'Madhya Pradesh',\n",
       " 'Bihar',\n",
       " 'Manipur',\n",
       " 'Mizoram',\n",
       " 'Andaman and Nicobar Islands',\n",
       " 'Goa',\n",
       " 'Unassigned',\n",
       " 'Assam',\n",
       " 'Jharkhand',\n",
       " 'Arunachal Pradesh',\n",
       " 'Tripura',\n",
       " 'Nagaland',\n",
       " 'Meghalaya',\n",
       " 'Dadra and Nagar Haveli and Daman and Diu',\n",
       " 'Cases being reassigned to states',\n",
       " 'Sikkim',\n",
       " 'Daman & Diu',\n",
       " 'Lakshadweep',\n",
       " 'Telangana',\n",
       " 'Dadra and Nagar Haveli',\n",
       " 'Bihar****',\n",
       " 'Madhya Pradesh***',\n",
       " 'Himanchal Pradesh',\n",
       " 'Karanataka',\n",
       " 'Maharashtra***']"
      ]
     },
     "execution_count": 61,
     "metadata": {},
     "output_type": "execute_result"
    }
   ],
   "source": [
    "covid_csv[[\"Year\",\"Month\",\"Day\"]] = covid_csv[\"Date\"].str.split(\"-\",expand = True)\n",
    "covid_csv.head()\n",
    "covid_csv[\"State/UnionTerritory\"].unique().tolist()"
   ]
  },
  {
   "cell_type": "code",
   "execution_count": 85,
   "metadata": {},
   "outputs": [
    {
     "name": "stdout",
     "output_type": "stream",
     "text": [
      "{'Kerala': 31, 'Telengana': 30, 'Delhi': 30, 'Rajasthan': 29, 'Uttar Pradesh': 28, 'Haryana': 28, 'Ladakh': 25, 'Tamil Nadu': 25, 'Karnataka': 23, 'Maharashtra': 23, 'Punjab': 23, 'Jammu and Kashmir': 23, 'Andhra Pradesh': 20, 'Uttarakhand': 17, 'Odisha': 16, 'Puducherry': 14, 'West Bengal': 14, 'Chhattisgarh': 13, 'Chandigarh': 13, 'Gujarat': 12, 'Himachal Pradesh': 11, 'Madhya Pradesh': 11, 'Bihar': 10, 'Manipur': 8, 'Mizoram': 7, 'Andaman and Nicobar Islands': 6, 'Goa': 6, 'Unassigned': 2, 'Assam': 0, 'Jharkhand': 0, 'Arunachal Pradesh': 0, 'Tripura': 0, 'Nagaland': 0, 'Meghalaya': 0, 'Dadra and Nagar Haveli and Daman and Diu': 0, 'Cases being reassigned to states': 0, 'Sikkim': 0, 'Daman & Diu': 0, 'Lakshadweep': 0, 'Telangana': 0, 'Dadra and Nagar Haveli': 0, 'Bihar****': 0, 'Madhya Pradesh***': 0, 'Himanchal Pradesh': 0, 'Karanataka': 0, 'Maharashtra***': 0}\n",
      "all_count:  498\n",
      "Max: Kerala\n",
      "Kerala  : 31  \n",
      "Telengana  : 30  \n",
      "Delhi  : 30  \n"
     ]
    }
   ],
   "source": [
    "count=0\n",
    "state_count = dict.fromkeys(covid_csv[\"State/UnionTerritory\"].unique().tolist(),0)\n",
    "for i in range(covid_csv.shape[0]):\n",
    "    if covid_csv['Year'][i] == '2020' and covid_csv['Month'][i]=='03':\n",
    "        state = covid_csv[\"State/UnionTerritory\"][i]\n",
    "        state_count[state] = state_count[state] + 1\n",
    "            \n",
    "print(state_count)\n",
    "all_count = 0\n",
    "for value in state_count.values():\n",
    "    all_count+=value\n",
    "print('all_count: ', all_count)\n",
    "print('Max:', max(zip(state_count.values(), state_count.keys()))[1])\n",
    "\n",
    "from collections import Counter\n",
    "\n",
    "k = Counter(state_count)\n",
    "\n",
    "# Finding 3 highest values\n",
    "high = k.most_common(3)\n",
    "\n",
    "for i in high:\n",
    "    print(i[0],\" :\",i[1],\" \")"
   ]
  },
  {
   "cell_type": "code",
   "execution_count": null,
   "metadata": {},
   "outputs": [],
   "source": []
  }
 ],
 "metadata": {
  "interpreter": {
   "hash": "73e03da126b73bfff3642ec5261d56fa25c444ea595de51041687efaa60dda41"
  },
  "kernelspec": {
   "display_name": "Python 3.8.8 64-bit ('base': conda)",
   "language": "python",
   "name": "python3"
  },
  "language_info": {
   "codemirror_mode": {
    "name": "ipython",
    "version": 3
   },
   "file_extension": ".py",
   "mimetype": "text/x-python",
   "name": "python",
   "nbconvert_exporter": "python",
   "pygments_lexer": "ipython3",
   "version": "3.8.8"
  },
  "orig_nbformat": 4
 },
 "nbformat": 4,
 "nbformat_minor": 2
}
