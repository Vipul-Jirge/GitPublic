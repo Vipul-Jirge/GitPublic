{
 "cells": [
  {
   "cell_type": "code",
   "execution_count": null,
   "metadata": {},
   "outputs": [],
   "source": [
    "import pandas as pd\n",
    "import matplotlib.pyplot as plt\n",
    "import time\n",
    "from IPython import display"
   ]
  },
  {
   "cell_type": "code",
   "execution_count": null,
   "metadata": {},
   "outputs": [],
   "source": [
    "db = pd.read_csv('tvmarketing.csv')\n",
    "xp, yp = db.iloc[:,0], db.iloc[:,1]\n",
    "plt.scatter(xp[:10], yp[:10])\n",
    "plt.show()\n"
   ]
  },
  {
   "cell_type": "code",
   "execution_count": null,
   "metadata": {},
   "outputs": [],
   "source": [
    "slope = 0\n",
    "intercept = 0\n",
    "learn_rate = 0.00001\n",
    "epochs = 5\n",
    "n = len(xp)\n",
    "\n",
    "for _ in range(epochs):\n",
    "    y_pred = slope*xp + intercept\n",
    "    d_slope = (-2 / n) * sum(xp*(yp-y_pred))\n",
    "    d_intercept = (-2 / n) * sum(yp-y_pred)\n",
    "    slope = slope - (learn_rate*d_slope)\n",
    "    intercept = intercept - (learn_rate*d_slope)\n",
    "    \n",
    "    plt.scatter(xp, yp)\n",
    "    plt.plot([min(xp), max(xp)],[min(y_pred), max(y_pred)], color='red')\n",
    "    \n",
    "    plt.show(block=False)\n",
    "    plt.pause(1)\n",
    "    plt.close()\n",
    "\n",
    "print(slope, intercept)"
   ]
  },
  {
   "cell_type": "code",
   "execution_count": null,
   "metadata": {},
   "outputs": [],
   "source": [
    "y_pred = slope*xp + intercept\n",
    "\n",
    "plt.scatter(xp, yp)\n",
    "plt.plot([min(xp), max(xp)],[min(y_pred), max(y_pred)], color='red')\n",
    "plt.show()"
   ]
  },
  {
   "cell_type": "code",
   "execution_count": null,
   "metadata": {},
   "outputs": [],
   "source": []
  }
 ],
 "metadata": {
  "kernelspec": {
   "display_name": "Python 3.8.8 ('base')",
   "language": "python",
   "name": "python3"
  },
  "language_info": {
   "codemirror_mode": {
    "name": "ipython",
    "version": 3
   },
   "file_extension": ".py",
   "mimetype": "text/x-python",
   "name": "python",
   "nbconvert_exporter": "python",
   "pygments_lexer": "ipython3",
   "version": "3.8.8"
  },
  "orig_nbformat": 4,
  "vscode": {
   "interpreter": {
    "hash": "e42634819b8c191a5d07eaf23810ff32516dd8d3875f28ec3e488928fbd3c187"
   }
  }
 },
 "nbformat": 4,
 "nbformat_minor": 2
}
