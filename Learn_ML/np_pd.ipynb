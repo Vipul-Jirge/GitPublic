{
 "cells": [
  {
   "cell_type": "code",
   "execution_count": null,
   "metadata": {},
   "outputs": [],
   "source": [
    "import numpy as np\n",
    "import pandas as pd\n"
   ]
  },
  {
   "cell_type": "code",
   "execution_count": null,
   "metadata": {},
   "outputs": [],
   "source": [
    "print(np.arange(10,30, 1.3))\n",
    "print(np.linspace(10,30,20))"
   ]
  },
  {
   "cell_type": "code",
   "execution_count": null,
   "metadata": {},
   "outputs": [],
   "source": [
    "print(np.zeros((5,2)))\n",
    "print(np.ones((5,2))*3)\n",
    "print(np.empty((5,2))) # empty i guess\n",
    "print(np.eye(5)) # Identity"
   ]
  },
  {
   "cell_type": "code",
   "execution_count": 16,
   "metadata": {},
   "outputs": [
    {
     "name": "stdout",
     "output_type": "stream",
     "text": [
      "[[0.97812017 0.37001454 0.59947841 0.34735002]\n",
      " [0.53168019 0.73993274 0.09037318 0.47080484]\n",
      " [0.65545467 0.50474849 0.45898385 0.8422673 ]]\n",
      "[[ 0.70020484 -0.23065641 -0.34732281  0.07119859]\n",
      " [-0.24900574 -0.59237305  2.09817352 -0.02848252]\n",
      " [-0.67947091  1.57154965  0.60189514 -0.16284234]]\n",
      "[37 12 31 23 14 43 45 37  9 34 30 28 33 49  5  4 31 13 11 15  3 21  7 30\n",
      " 31 15 24 41 47 13 42 49 17 31 47  6 33 28  6  9 40  2 36 24 34 21 35 24\n",
      " 36 34 31  4 18  4 18 40 42 41 17 23 10 16 13 29 17 22 20 10 33 24 13 34\n",
      " 37 16 20 43 42 16 20 42  4 42 28 45  7 32 31 47 32 15 34  7 48 24 39 24\n",
      " 16 48  4 17]\n"
     ]
    }
   ],
   "source": [
    "print(np.random.rand(3,4)) # Uniformly distributed\n",
    "print(np.random.randn(3,4)) # Numbers from Normal distribution with zero mean and standard deviation 1 i.e. standard normal\n",
    "print(np.random.randint(1,50,100)) # randint (low, high, # of samples to be drawn)"
   ]
  },
  {
   "cell_type": "code",
   "execution_count": 21,
   "metadata": {},
   "outputs": [
    {
     "name": "stdout",
     "output_type": "stream",
     "text": [
      "a:  [19  5  1 35 15 42 35 41 33  5 22 14 25 11  9 14 32 14 37  7 23 28  7 24\n",
      " 18 15 14  1 41 43 44 45 30 21 40  6 33  5 44 10  5 39 32 22 27 44 15 43\n",
      " 22 10 26 11 10 46 41 40 17 23 14 31 46 45  2 48 43 48 34 39 22 21 15 17\n",
      " 19 23 16  8 48 23 47 22 19  8 49 44 36 29 49 43 48  1 28 15 48 39 39  3\n",
      " 39 35 35 10]\n",
      "49\n",
      "82\n"
     ]
    }
   ],
   "source": [
    "a = np.random.randint(1,50,100)\n",
    "print('a: ', a)\n",
    "print(max(a))\n",
    "print(a.argmax()) # index of max(a)"
   ]
  },
  {
   "cell_type": "code",
   "execution_count": 24,
   "metadata": {},
   "outputs": [
    {
     "name": "stdout",
     "output_type": "stream",
     "text": [
      "Array: [ 0  1  2  3  4  5  6  7  8  9 10]\n",
      "Element at 7th index is: 7\n",
      "Elements from 3rd to 5th index are: [3 4 5]\n",
      "Elements up to 4th index are: [0 1 2 3]\n",
      "Elements from last backwards are: [10  9  8  7  6  5  4  3  2  1  0]\n",
      "3 Elements from last backwards are: [10  8  6]\n",
      "New array: [ 0  2  4  6  8 10 12 14 16 18 20]\n",
      "Elements at 2nd, 4th, and 9th index are: [ 4  8 18]\n"
     ]
    }
   ],
   "source": [
    "arr = np.arange(0,11)\n",
    "print(\"Array:\",arr)\n",
    "print(\"Element at 7th index is:\", arr[7])\n",
    "print(\"Elements from 3rd to 5th index are:\", arr[3:6])\n",
    "print(\"Elements up to 4th index are:\", arr[:4])\n",
    "print(\"Elements from last backwards are:\", arr[::-1])\n",
    "print(\"3 Elements from last backwards are:\", arr[-1:-6:-2])\n",
    "\n",
    "arr = np.arange(0,21,2)\n",
    "print(\"New array:\",arr)\n",
    "print(\"Elements at 2nd, 4th, and 9th index are:\", arr[[2,4,9]]) # Pass a list as a index to subset"
   ]
  },
  {
   "cell_type": "code",
   "execution_count": 31,
   "metadata": {},
   "outputs": [
    {
     "name": "stdout",
     "output_type": "stream",
     "text": [
      "mat:  [[41 56 81 75 43]\n",
      " [46 90 81 79 38]\n",
      " [99 36 80 88 63]]\n",
      "[[56 75]\n",
      " [90 79]]\n",
      "[41 56 81 75 43 46 90 81 79 38 99 36 80 88 63]\n"
     ]
    }
   ],
   "source": [
    "mat = np.array(np.random.randint(10,100,15)).reshape(3,5)\n",
    "print('mat: ', mat)\n",
    "print(mat[0:2,[1,3]])\n",
    "print(mat[mat>20])\n"
   ]
  },
  {
   "cell_type": "code",
   "execution_count": null,
   "metadata": {},
   "outputs": [],
   "source": []
  }
 ],
 "metadata": {
  "kernelspec": {
   "display_name": "Python 3.10.0 64-bit",
   "language": "python",
   "name": "python3"
  },
  "language_info": {
   "codemirror_mode": {
    "name": "ipython",
    "version": 3
   },
   "file_extension": ".py",
   "mimetype": "text/x-python",
   "name": "python",
   "nbconvert_exporter": "python",
   "pygments_lexer": "ipython3",
   "version": "3.10.0"
  },
  "orig_nbformat": 4,
  "vscode": {
   "interpreter": {
    "hash": "369f2c481f4da34e4445cda3fffd2e751bd1c4d706f27375911949ba6bb62e1c"
   }
  }
 },
 "nbformat": 4,
 "nbformat_minor": 2
}
