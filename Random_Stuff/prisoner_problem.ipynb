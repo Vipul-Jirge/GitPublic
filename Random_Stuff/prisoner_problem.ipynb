{
 "cells": [
  {
   "cell_type": "code",
   "execution_count": 1,
   "metadata": {},
   "outputs": [],
   "source": [
    "import random"
   ]
  },
  {
   "cell_type": "code",
   "execution_count": 5,
   "metadata": {},
   "outputs": [],
   "source": [
    "PRISONERS= 100\n",
    "BOXES =list(range(PRISONERS))\n",
    "\n",
    "def strat(boxes):\n",
    "    random.shuffle(boxes)\n",
    "    for p in range(PRISONERS):\n",
    "        check = p\n",
    "        for _ in range(50):\n",
    "            check = boxes[check]\n",
    "            if check== p:\n",
    "                break\n",
    "        else:\n",
    "            return False\n",
    "            \n",
    "    return True "
   ]
  },
  {
   "cell_type": "code",
   "execution_count": 9,
   "metadata": {},
   "outputs": [
    {
     "name": "stdout",
     "output_type": "stream",
     "text": [
      "0.3153\n"
     ]
    }
   ],
   "source": [
    "runs = 10000\n",
    "t = 0\n",
    "f = 0\n",
    "for _ in range(runs):\n",
    "    test = strat(BOXES)\n",
    "    if test:\n",
    "        t+=1\n",
    "    else:\n",
    "        f+=1\n",
    "\n",
    "print(t/runs)"
   ]
  },
  {
   "cell_type": "code",
   "execution_count": null,
   "metadata": {},
   "outputs": [],
   "source": []
  }
 ],
 "metadata": {
  "kernelspec": {
   "display_name": "Python 3.8.8 ('base')",
   "language": "python",
   "name": "python3"
  },
  "language_info": {
   "codemirror_mode": {
    "name": "ipython",
    "version": 3
   },
   "file_extension": ".py",
   "mimetype": "text/x-python",
   "name": "python",
   "nbconvert_exporter": "python",
   "pygments_lexer": "ipython3",
   "version": "3.8.8"
  },
  "orig_nbformat": 4,
  "vscode": {
   "interpreter": {
    "hash": "e42634819b8c191a5d07eaf23810ff32516dd8d3875f28ec3e488928fbd3c187"
   }
  }
 },
 "nbformat": 4,
 "nbformat_minor": 2
}
